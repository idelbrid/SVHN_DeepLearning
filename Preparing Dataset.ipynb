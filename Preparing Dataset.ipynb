{
 "cells": [
  {
   "cell_type": "code",
   "execution_count": 2,
   "metadata": {
    "collapsed": true
   },
   "outputs": [],
   "source": [
    "from tensorflow.examples.tutorials.mnist import input_data"
   ]
  },
  {
   "cell_type": "code",
   "execution_count": 12,
   "metadata": {
    "collapsed": false
   },
   "outputs": [
    {
     "name": "stdout",
     "output_type": "stream",
     "text": [
      "Extracting /tmp/data/train-images-idx3-ubyte.gz\n",
      "Extracting /tmp/data/train-labels-idx1-ubyte.gz\n",
      "Extracting /tmp/data/t10k-images-idx3-ubyte.gz\n",
      "Extracting /tmp/data/t10k-labels-idx1-ubyte.gz\n"
     ]
    }
   ],
   "source": [
    "mnist = input_data.read_data_sets(\"/tmp/data/\", one_hot=True)"
   ]
  },
  {
   "cell_type": "code",
   "execution_count": 13,
   "metadata": {
    "collapsed": false
   },
   "outputs": [],
   "source": [
    "X_train = mnist.train.images.reshape((-1, 28, 28))\n",
    "X_test = mnist.test.images.reshape((-1, 28, 28))"
   ]
  },
  {
   "cell_type": "code",
   "execution_count": 14,
   "metadata": {
    "collapsed": true
   },
   "outputs": [],
   "source": [
    "y_train = mnist.train.labels\n",
    "y_test = mnist.test.labels"
   ]
  },
  {
   "cell_type": "code",
   "execution_count": 3,
   "metadata": {
    "collapsed": true
   },
   "outputs": [],
   "source": [
    "import matplotlib.pyplot as plt"
   ]
  },
  {
   "cell_type": "code",
   "execution_count": 16,
   "metadata": {
    "collapsed": false
   },
   "outputs": [
    {
     "data": {
      "image/png": "[encoded data removed]",
      "text/plain": [
       "<matplotlib.figure.Figure at 0x180b09ff198>"
      ]
     },
     "metadata": {},
     "output_type": "display_data"
    }
   ],
   "source": [
    "%matplotlib inline\n",
    "plt.imshow(X_train[0], cmap='gray')\n",
    "plt.show()"
   ]
  },
  {
   "cell_type": "code",
   "execution_count": 17,
   "metadata": {
    "collapsed": false
   },
   "outputs": [
    {
     "data": {
      "image/png": "[encoded data removed]",
      "text/plain": [
       "<matplotlib.figure.Figure at 0x180b0ad1f28>"
      ]
     },
     "metadata": {},
     "output_type": "display_data"
    }
   ],
   "source": [
    "plt.imshow(X_train[1], cmap='gray')\n",
    "plt.show()"
   ]
  },
  {
   "cell_type": "code",
   "execution_count": 4,
   "metadata": {
    "collapsed": true
   },
   "outputs": [],
   "source": [
    "import numpy as np"
   ]
  },
  {
   "cell_type": "code",
   "execution_count": 5,
   "metadata": {
    "collapsed": false
   },
   "outputs": [],
   "source": [
    "def make_fake_dataset(X, y, n_cat, min_digits, chance_to_drop=0.5, reuse=True, \n",
    "                      size=None):\n",
    "#     if not reuse:\n",
    "#         raise NotImplementedError(\"Sorry, I didn't prepare that option yet.\")\n",
    "    if size is None:\n",
    "        size = len(X)\n",
    "    ids = np.arange(len(X))\n",
    "    np.random.shuffle(ids)\n",
    "\n",
    "    c = np.random.choice(ids, size*n_cat, replace=reuse)\n",
    "    c = c.reshape([size, n_cat])\n",
    "    data = np.ndarray(shape=[size, n_cat, 28, 28])\n",
    "    labels = np.ndarray(shape=[size, n_cat, 10])\n",
    "    for i in range(n_cat):\n",
    "        spot_keys = c[: , i]\n",
    "        labels[:, i, :] = y[spot_keys]\n",
    "        data[:, i, :, :] = X[spot_keys]\n",
    "    \n",
    "    blackout = np.ones(min_digits, dtype=bool)\n",
    "    for i in range(min_digits, n_cat):\n",
    "        round_dropped = (np.random.uniform(size=len(data)) > chance_to_drop)\n",
    "        blackout = round_dropped & blackout\n",
    "        data[~blackout, i, :, :] = 0\n",
    "        labels[~blackout, i, :] = 0\n",
    "    data = np.concatenate(data.swapaxes(0, 1), axis=2)\n",
    "    return data, labels"
   ]
  },
  {
   "cell_type": "code",
   "execution_count": 21,
   "metadata": {
    "collapsed": false
   },
   "outputs": [],
   "source": [
    "X_t, y_t = make_fake_dataset(X_train[:10], y_train[:10], 3, 1)"
   ]
  },
  {
   "cell_type": "code",
   "execution_count": 22,
   "metadata": {
    "collapsed": false
   },
   "outputs": [
    {
     "data": {
      "text/plain": [
       "(10, 28, 84)"
      ]
     },
     "execution_count": 22,
     "metadata": {},
     "output_type": "execute_result"
    }
   ],
   "source": [
    "X_t.shape"
   ]
  },
  {
   "cell_type": "code",
   "execution_count": 23,
   "metadata": {
    "collapsed": false
   },
   "outputs": [
    {
     "data": {
      "text/plain": [
       "(10, 3, 10)"
      ]
     },
     "execution_count": 23,
     "metadata": {},
     "output_type": "execute_result"
    }
   ],
   "source": [
    "y_t.shape"
   ]
  },
  {
   "cell_type": "code",
   "execution_count": 24,
   "metadata": {
    "collapsed": false
   },
   "outputs": [
    {
     "data": {
      "text/plain": [
       "array([[0, 0, 0],\n",
       "       [4, 1, 0],\n",
       "       [1, 0, 0],\n",
       "       [6, 8, 0],\n",
       "       [8, 0, 0],\n",
       "       [1, 0, 0],\n",
       "       [9, 0, 0],\n",
       "       [1, 0, 0],\n",
       "       [6, 0, 0],\n",
       "       [7, 0, 0]], dtype=int64)"
      ]
     },
     "execution_count": 24,
     "metadata": {},
     "output_type": "execute_result"
    }
   ],
   "source": [
    "y_t.argmax(axis=2)"
   ]
  },
  {
   "cell_type": "code",
   "execution_count": 25,
   "metadata": {
    "collapsed": false
   },
   "outputs": [
    {
     "data": {
      "text/plain": [
       "array(['2'], \n",
       "      dtype='<U11')"
      ]
     },
     "execution_count": 25,
     "metadata": {},
     "output_type": "execute_result"
    }
   ],
   "source": [
    "np.array([2]).astype(str)"
   ]
  },
  {
   "cell_type": "code",
   "execution_count": 6,
   "metadata": {
    "collapsed": true
   },
   "outputs": [],
   "source": [
    "def one_hot_to_dense(mat):\n",
    "    none_loc = (mat == 0).all(axis=1)\n",
    "    dense = mat.argmax(axis=1)\n",
    "    dense = dense.astype(str)\n",
    "    dense[none_loc] = '_'\n",
    "    return dense"
   ]
  },
  {
   "cell_type": "code",
   "execution_count": 7,
   "metadata": {
    "collapsed": false
   },
   "outputs": [],
   "source": [
    "def plot_random():\n",
    "    c = np.random.choice(np.arange(len(X_t)))\n",
    "    plt.imshow(X_t[c], cmap='Greys')\n",
    "    plt.title(''.join([str(x) for x in one_hot_to_dense(y_t[c])]))\n",
    "    plt.show()"
   ]
  },
  {
   "cell_type": "code",
   "execution_count": 28,
   "metadata": {
    "collapsed": false
   },
   "outputs": [
    {
     "data": {
      "image/png": "[encoded data removed]",
      "text/plain": [
       "<matplotlib.figure.Figure at 0x180b1ce6e10>"
      ]
     },
     "metadata": {},
     "output_type": "display_data"
    }
   ],
   "source": [
    "plot_random()"
   ]
  },
  {
   "cell_type": "code",
   "execution_count": 32,
   "metadata": {
    "collapsed": false
   },
   "outputs": [
    {
     "data": {
      "text/plain": [
       "55000"
      ]
     },
     "execution_count": 32,
     "metadata": {},
     "output_type": "execute_result"
    }
   ],
   "source": [
    "len(X_train)"
   ]
  },
  {
   "cell_type": "code",
   "execution_count": 33,
   "metadata": {
    "collapsed": false
   },
   "outputs": [
    {
     "data": {
      "text/plain": [
       "10000"
      ]
     },
     "execution_count": 33,
     "metadata": {},
     "output_type": "execute_result"
    }
   ],
   "source": [
    "len(X_test)"
   ]
  },
  {
   "cell_type": "code",
   "execution_count": 36,
   "metadata": {
    "collapsed": false
   },
   "outputs": [],
   "source": [
    "X_train_prime, y_train_prime = make_fake_dataset(X_train, y_train, 5, 1, chance_to_drop=0.3, size=11000, reuse=False)"
   ]
  },
  {
   "cell_type": "code",
   "execution_count": 37,
   "metadata": {
    "collapsed": true
   },
   "outputs": [],
   "source": [
    "X_test_prime, y_test_prime = make_fake_dataset(X_test, y_test, 5, 1, chance_to_drop=0.3, size=2000, reuse=False)"
   ]
  },
  {
   "cell_type": "code",
   "execution_count": 1,
   "metadata": {
    "collapsed": true
   },
   "outputs": [],
   "source": [
    "import pickle"
   ]
  },
  {
   "cell_type": "code",
   "execution_count": 100,
   "metadata": {
    "collapsed": true
   },
   "outputs": [],
   "source": [
    "with open('smaller_mnist_catted_dset.pkl', 'wb') as f:\n",
    "    t = {'X_train': X_train_prime,\n",
    "         'X_test': X_test_prime,\n",
    "         'y_train': y_train_prime,\n",
    "         'y_test': y_test_prime}\n",
    "    pickle.dump(t, f)"
   ]
  },
  {
   "cell_type": "code",
   "execution_count": 9,
   "metadata": {
    "collapsed": false
   },
   "outputs": [],
   "source": [
    "with open('./smaller_mnist_catted_dset.pkl', 'rb') as f:\n",
    "    t = pickle.load(f)"
   ]
  },
  {
   "cell_type": "code",
   "execution_count": 10,
   "metadata": {
    "collapsed": true
   },
   "outputs": [],
   "source": [
    "X_train_prime = t['X_train']\n",
    "X_test_prime = t['X_test']\n",
    "y_train_prime = t['y_train']\n",
    "y_test_prime = t['y_test']\n",
    "del t"
   ]
  },
  {
   "cell_type": "code",
   "execution_count": 11,
   "metadata": {
    "collapsed": true
   },
   "outputs": [],
   "source": [
    "def validation_split(X, y, percent_validation=0.2):\n",
    "    len_train = int(len(X) * (1-percent_validation))\n",
    "    len_valid = len(X) - len_train\n",
    "    indices = np.arange(len(X))\n",
    "    np.random.shuffle(indices)\n",
    "    X = X[indices]\n",
    "    y = y[indices]\n",
    "    return X[:len_train], y[:len_train], X[len_train:], y[len_train:]"
   ]
  },
  {
   "cell_type": "code",
   "execution_count": 12,
   "metadata": {
    "collapsed": true
   },
   "outputs": [],
   "source": [
    "X_train_prime, y_train_prime, X_valid_prime, y_valid_prime = validation_split(X_train_prime, y_train_prime)"
   ]
  },
  {
   "cell_type": "code",
   "execution_count": 16,
   "metadata": {
    "collapsed": false
   },
   "outputs": [],
   "source": [
    "X_train_prime = X_train_prime - 0.5\n",
    "X_valid_prime = X_valid_prime - 0.5\n",
    "X_test_prime = X_test_prime - 0.5"
   ]
  },
  {
   "cell_type": "code",
   "execution_count": 17,
   "metadata": {
    "collapsed": true
   },
   "outputs": [],
   "source": [
    "with open('smaller_mnist_catted_dset.pkl', 'wb') as f:\n",
    "    t = {'X_train': X_train_prime,\n",
    "         'X_test': X_test_prime,\n",
    "         'X_valid': X_valid_prime,\n",
    "         'y_valid': y_valid_prime,\n",
    "         'y_train': y_train_prime,\n",
    "         'y_test': y_test_prime}\n",
    "    pickle.dump(t, f)"
   ]
  },
  {
   "cell_type": "code",
   "execution_count": null,
   "metadata": {
    "collapsed": true
   },
   "outputs": [],
   "source": []
  }
 ],
 "metadata": {
  "kernelspec": {
   "display_name": "Python 3",
   "language": "python",
   "name": "python3"
  },
  "language_info": {
   "codemirror_mode": {
    "name": "ipython",
    "version": 3
   },
   "file_extension": ".py",
   "mimetype": "text/x-python",
   "name": "python",
   "nbconvert_exporter": "python",
   "pygments_lexer": "ipython3",
   "version": "3.5.2"
  }
 },
 "nbformat": 4,
 "nbformat_minor": 0
}
