{
 "cells": [
  {
   "cell_type": "code",
   "execution_count": 1,
   "metadata": {
    "collapsed": false
   },
   "outputs": [],
   "source": [
    "from scipy.io import loadmat, savemat\n",
    "import matplotlib.pyplot as plt\n",
    "import numpy as np\n",
    "import pickle\n",
    "import os\n",
    "from sklearn.datasets import fetch_mldata\n",
    "%matplotlib inline"
   ]
  },
  {
   "cell_type": "markdown",
   "metadata": {},
   "source": [
    "<ol>\n",
    "<li><a href=\"#Downloading,-Formatting,-and-Verifying-MNIST\">Downloading, Formatting, and Verifying MNIST</a></li>\n",
    "<li><a href=\"#Fabricating-the-new-dataset-made-from-concatenated-mnist-digits\">Fabricating the new dataset made from concatenated mnist digits</a></li>\n",
    "</ol>"
   ]
  },
  {
   "cell_type": "markdown",
   "metadata": {},
   "source": [
    "# Downloading, Formatting, and Verifying MNIST\n",
    "In this section, we \n",
    "1. use scikit-learn's `fetch_mldata` to download the MNIST dataset from <a href=\"mldata.org\">mldata.org</a>, \n",
    "2. one-hot encode the target variable, and \n",
    "3. shuffle the dataset"
   ]
  },
  {
   "cell_type": "code",
   "execution_count": 5,
   "metadata": {
    "collapsed": false,
    "scrolled": true
   },
   "outputs": [
    {
     "data": {
      "text/plain": [
       "{'COL_NAMES': ['label', 'data'],\n",
       " 'DESCR': 'mldata.org dataset: mnist-original',\n",
       " 'data': array([[0, 0, 0, ..., 0, 0, 0],\n",
       "        [0, 0, 0, ..., 0, 0, 0],\n",
       "        [0, 0, 0, ..., 0, 0, 0],\n",
       "        ..., \n",
       "        [0, 0, 0, ..., 0, 0, 0],\n",
       "        [0, 0, 0, ..., 0, 0, 0],\n",
       "        [0, 0, 0, ..., 0, 0, 0]], dtype=uint8),\n",
       " 'target': array([ 0.,  0.,  0., ...,  9.,  9.,  9.])}"
      ]
     },
     "execution_count": 5,
     "metadata": {},
     "output_type": "execute_result"
    }
   ],
   "source": [
    "fetch_mldata('MNIST original', data_home='./')"
   ]
  },
  {
   "cell_type": "code",
   "execution_count": 7,
   "metadata": {
    "collapsed": true
   },
   "outputs": [],
   "source": [
    "os.rename('./mldata/', 'MNIST_Data')"
   ]
  },
  {
   "cell_type": "code",
   "execution_count": 8,
   "metadata": {
    "collapsed": false
   },
   "outputs": [
    {
     "data": {
      "text/plain": [
       "{'__globals__': [],\n",
       " '__header__': b'MATLAB 5.0 MAT-file Platform: posix, Created on: Sun May 21 17:51:55 2017',\n",
       " '__version__': '1.0',\n",
       " 'data': array([[0, 0, 0, ..., 0, 0, 0],\n",
       "        [0, 0, 0, ..., 0, 0, 0],\n",
       "        [0, 0, 0, ..., 0, 0, 0],\n",
       "        ..., \n",
       "        [0, 0, 0, ..., 0, 0, 0],\n",
       "        [0, 0, 0, ..., 0, 0, 0],\n",
       "        [0, 0, 0, ..., 0, 0, 0]], dtype=uint8),\n",
       " 'label': array([[ 0.,  0.,  0., ...,  9.,  9.,  9.]]),\n",
       " 'mldata_descr_ordering': array([[array(['label'], \n",
       "       dtype='<U5'),\n",
       "         array(['data'], \n",
       "       dtype='<U4')]], dtype=object)}"
      ]
     },
     "execution_count": 8,
     "metadata": {},
     "output_type": "execute_result"
    }
   ],
   "source": [
    "mnist = loadmat('./MNIST_Data/mnist-original.mat')\n",
    "mnist"
   ]
  },
  {
   "cell_type": "code",
   "execution_count": 9,
   "metadata": {
    "collapsed": false
   },
   "outputs": [
    {
     "data": {
      "text/plain": [
       "array([[1, 0, 0, 0, 0, 0, 0, 0, 0, 0],\n",
       "       [0, 1, 0, 0, 0, 0, 0, 0, 0, 0],\n",
       "       [0, 0, 0, 0, 0, 0, 1, 0, 0, 0],\n",
       "       [0, 0, 0, 0, 0, 0, 0, 1, 0, 0],\n",
       "       [0, 0, 0, 0, 0, 0, 0, 0, 1, 0]], dtype=int16)"
      ]
     },
     "execution_count": 9,
     "metadata": {},
     "output_type": "execute_result"
    }
   ],
   "source": [
    "def to_one_hot(num):\n",
    "    '''Numpy array of digits mapped to a one-hot encoding'''\n",
    "    num = np.ravel(num).astype(int)\n",
    "    toreturn = np.zeros(shape=(len(num), 10), dtype=np.int16)\n",
    "    for i, dig in enumerate(num):\n",
    "        toreturn[i, dig] = 1\n",
    "    return toreturn\n",
    "to_one_hot(np.array([0, 1, 6.0, 7, 8]))"
   ]
  },
  {
   "cell_type": "code",
   "execution_count": 10,
   "metadata": {
    "collapsed": false
   },
   "outputs": [],
   "source": [
    "mnist_data = mnist['data'].T.reshape((-1, 28, 28))\n",
    "mnist_label = to_one_hot(np.ravel(mnist['label']))"
   ]
  },
  {
   "cell_type": "markdown",
   "metadata": {},
   "source": [
    "I'm going ahead and shuffling all of the data here before we forget to down the line and potentially mess up all of the training."
   ]
  },
  {
   "cell_type": "code",
   "execution_count": 11,
   "metadata": {
    "collapsed": true
   },
   "outputs": [],
   "source": [
    "np.random.seed(42)\n",
    "perm = np.random.permutation(np.arange(len(mnist_data), dtype='int'))\n",
    "mnist_data = mnist_data[perm]\n",
    "mnist_label = mnist_label[perm]"
   ]
  },
  {
   "cell_type": "code",
   "execution_count": 12,
   "metadata": {
    "collapsed": false,
    "deletable": true,
    "editable": true
   },
   "outputs": [
    {
     "data": {
      "image/png": "[encoded data removed]",
      "text/plain": [
       "<matplotlib.figure.Figure at 0x16ac2ec8358>"
      ]
     },
     "metadata": {},
     "output_type": "display_data"
    }
   ],
   "source": [
    "plt.imshow(mnist_data[-1], cmap='gray')\n",
    "plt.title(mnist_label[-1].argmax())\n",
    "plt.show()"
   ]
  },
  {
   "cell_type": "markdown",
   "metadata": {},
   "source": [
    "# Fabricating the new dataset made from concatenated mnist digits\n",
    "In this section, we fabricate a dataset by, for each $l\\in\\{1, .., 5\\}$, $n$ times randomly selecting $l$ digits and horizontally concatenate them with some random padding to make the length of all resulting images equal to the length of 5 MNIST digits. \n",
    "\n",
    "Then, we save the data again as a .mat file. "
   ]
  },
  {
   "cell_type": "code",
   "execution_count": 14,
   "metadata": {
    "collapsed": false,
    "scrolled": true
   },
   "outputs": [],
   "source": [
    "max_seq_len = 5\n",
    "def make_size_n_seqs(n, size):\n",
    "    idxes = np.round(np.random.uniform(high=len(mnist_data), size=(size, n))).astype('int')\n",
    "    data = mnist_data[idxes, :]\n",
    "    labels = mnist_label[idxes]\n",
    "    \n",
    "    toreturn = np.zeros((size, 28, max_seq_len*28))\n",
    "    if not n == max_seq_len:\n",
    "        extra_room = (max_seq_len - n) * 28\n",
    "        for i in range(size):\n",
    "            pad_sections = n + 1\n",
    "            remaining_room = extra_room\n",
    "            pad_idx = 0\n",
    "            for j in range(pad_sections):\n",
    "                pad_spaces = np.round(np.random.normal(loc=extra_room/pad_sections, scale=np.sqrt(extra_room/pad_sections))).astype('int')\n",
    "                pad_spaces = min(remaining_room, max(0, pad_spaces))\n",
    "                \n",
    "#                 padding = np.round(np.random.uniform(high=255, size=(28, pad_spaces))).astype(int)\n",
    "                padding = np.zeros((28, pad_spaces)) \n",
    "\n",
    "                toreturn[i, :, pad_idx:pad_idx+pad_spaces] = padding\n",
    "                if j != pad_sections - 1:\n",
    "                    toreturn[i, :, pad_idx+pad_spaces:pad_idx+pad_spaces+28] = data[i, j, :, :]\n",
    "                pad_idx += pad_spaces + 28\n",
    "                remaining_room -= pad_spaces\n",
    "    else:\n",
    "        for i in range(size):\n",
    "            for j in range(n):\n",
    "                toreturn[i, :, 28*j:(j+1)*28] = data[i, j, :, :]\n",
    "                \n",
    "    return toreturn, labels"
   ]
  },
  {
   "cell_type": "code",
   "execution_count": 15,
   "metadata": {
    "collapsed": false
   },
   "outputs": [
    {
     "name": "stdout",
     "output_type": "stream",
     "text": [
      "(10, 28, 140)\n",
      "(10, 3, 10)\n"
     ]
    },
    {
     "data": {
      "text/plain": [
       "<matplotlib.text.Text at 0x16ac58b6d30>"
      ]
     },
     "execution_count": 15,
     "metadata": {},
     "output_type": "execute_result"
    },
    {
     "data": {
      "image/png": "[encoded data removed]",
      "text/plain": [
       "<matplotlib.figure.Figure at 0x16ac2eeb470>"
      ]
     },
     "metadata": {},
     "output_type": "display_data"
    }
   ],
   "source": [
    "# %%debug\n",
    "np.random.seed(seed=1964)\n",
    "dset, labels = make_size_n_seqs(3, 10)\n",
    "print(dset.shape)\n",
    "print(labels.shape)\n",
    "plt.imshow(dset[0], cmap='gray')\n",
    "plt.title(labels[0].argmax(axis=1))"
   ]
  },
  {
   "cell_type": "code",
   "execution_count": 17,
   "metadata": {
    "collapsed": false
   },
   "outputs": [
    {
     "data": {
      "text/plain": [
       "4666"
      ]
     },
     "execution_count": 17,
     "metadata": {},
     "output_type": "execute_result"
    }
   ],
   "source": [
    "n_per_num = len(mnist_data) // (1+2+3+4+5)\n",
    "n_per_num"
   ]
  },
  {
   "cell_type": "code",
   "execution_count": 18,
   "metadata": {
    "collapsed": false
   },
   "outputs": [
    {
     "name": "stdout",
     "output_type": "stream",
     "text": [
      "(23330, 28, 140)\n",
      "23330 (1, 10)\n"
     ]
    },
    {
     "data": {
      "text/plain": [
       "<matplotlib.text.Text at 0x16ad097d710>"
      ]
     },
     "execution_count": 18,
     "metadata": {},
     "output_type": "execute_result"
    },
    {
     "data": {
      "image/png": "[encoded data removed]",
      "text/plain": [
       "<matplotlib.figure.Figure at 0x16ac58e1be0>"
      ]
     },
     "metadata": {},
     "output_type": "display_data"
    }
   ],
   "source": [
    "sim_dsets = []\n",
    "sim_labels = []\n",
    "for n in range(1, 6):\n",
    "    dset, labels = make_size_n_seqs(n, n_per_num)\n",
    "    sim_dsets.append(dset)\n",
    "    sim_labels.append(labels)\n",
    "simulated_dataset = np.concatenate(sim_dsets)\n",
    "simulated_labels = []\n",
    "for group in sim_labels:\n",
    "    simulated_labels.extend(list(group))# We don't want to pad the ones with fewer numbers or anything\n",
    "\n",
    "print(simulated_dataset.shape)\n",
    "print(len(simulated_labels), simulated_labels[0].shape)\n",
    "plt.imshow(simulated_dataset[0], cmap='gray')\n",
    "plt.title(simulated_labels[0].argmax(axis=1))"
   ]
  },
  {
   "cell_type": "code",
   "execution_count": 19,
   "metadata": {
    "collapsed": false
   },
   "outputs": [],
   "source": [
    "os.mkdir('./fabricated_mnist_data/')\n",
    "savemat('./fabricated_mnist_data/data_and_labels.mat', {'data': simulated_dataset, \n",
    "                                                        'labels': simulated_labels})"
   ]
  }
 ],
 "metadata": {
  "kernelspec": {
   "display_name": "Python 3",
   "language": "python",
   "name": "python3"
  },
  "language_info": {
   "codemirror_mode": {
    "name": "ipython",
    "version": 3
   },
   "file_extension": ".py",
   "mimetype": "text/x-python",
   "name": "python",
   "nbconvert_exporter": "python",
   "pygments_lexer": "ipython3",
   "version": "3.5.2"
  }
 },
 "nbformat": 4,
 "nbformat_minor": 2
}
