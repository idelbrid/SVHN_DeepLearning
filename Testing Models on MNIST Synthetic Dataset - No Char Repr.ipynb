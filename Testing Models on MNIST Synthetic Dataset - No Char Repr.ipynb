{
 "cells": [
  {
   "cell_type": "code",
   "execution_count": 3,
   "metadata": {
    "collapsed": false,
    "deletable": true,
    "editable": true
   },
   "outputs": [
    {
     "name": "stdout",
     "output_type": "stream",
     "text": [
      "Tensorflow version 1.1.0\n"
     ]
    }
   ],
   "source": [
    "from scipy.io import loadmat, savemat\n",
    "import numpy as np\n",
    "import matplotlib.pyplot as plt\n",
    "import matplotlib.style\n",
    "import tensorflow as tf\n",
    "print('Tensorflow version', tf.__version__)\n",
    "\n",
    "%matplotlib inline\n",
    "matplotlib.style.use(\"ggplot\")"
   ]
  },
  {
   "cell_type": "markdown",
   "metadata": {
    "deletable": true,
    "editable": true
   },
   "source": [
    "<ol>\n",
    "<li><a href=\"#Loading-and-Formatting-Data\">Loading and Formatting Data</a></li>\n",
    "<li><a href=\"#Defining-Helper-Functions\">Defining Helper Functions</a></li>\n",
    "<li><a href=\"#Test-Model\">Test Model</a></li>\n",
    "</ol>"
   ]
  },
  {
   "cell_type": "markdown",
   "metadata": {},
   "source": [
    "# Loading and Formatting Data"
   ]
  },
  {
   "cell_type": "code",
   "execution_count": 4,
   "metadata": {
    "collapsed": false,
    "deletable": true,
    "editable": true,
    "scrolled": false
   },
   "outputs": [
    {
     "name": "stdout",
     "output_type": "stream",
     "text": [
      "X shape (23330, 28, 140)\n",
      "Y 'shape' (1, 23330)\n",
      "Y first example shape (1, 10)\n",
      "Y last example shape (5, 10)\n"
     ]
    }
   ],
   "source": [
    "synth_data = loadmat('./fabricated_mnist_data/data_and_labels.mat')\n",
    "all_x = synth_data['data']\n",
    "all_y = synth_data['labels']\n",
    "print(\"X shape\", all_x.shape)\n",
    "print(\"Y 'shape'\", all_y.shape)\n",
    "print(\"Y first example shape\", all_y[0, 0].shape)\n",
    "print(\"Y last example shape\", all_y[0, -1].shape)"
   ]
  },
  {
   "cell_type": "markdown",
   "metadata": {
    "deletable": true,
    "editable": true
   },
   "source": [
    "Reshape y by padding < 5 length labels, and getting the length of the labels"
   ]
  },
  {
   "cell_type": "code",
   "execution_count": 5,
   "metadata": {
    "collapsed": false,
    "deletable": true,
    "editable": true
   },
   "outputs": [
    {
     "data": {
      "text/plain": [
       "array([[  0.,   1.,   2.,   3.,   4.,   5.,   6.,   7.,   8.,   9.,   0.],\n",
       "       [ 10.,  11.,  12.,  13.,  14.,  15.,  16.,  17.,  18.,  19.,   0.],\n",
       "       [  0.,   0.,   0.,   0.,   0.,   0.,   0.,   0.,   0.,   0.,   1.],\n",
       "       [  0.,   0.,   0.,   0.,   0.,   0.,   0.,   0.,   0.,   0.,   1.],\n",
       "       [  0.,   0.,   0.,   0.,   0.,   0.,   0.,   0.,   0.,   0.,   1.]])"
      ]
     },
     "execution_count": 5,
     "metadata": {},
     "output_type": "execute_result"
    }
   ],
   "source": [
    "all_y = all_y.reshape(-1)\n",
    "all_y_lens = np.array([len(y_ex) for y_ex in all_y])\n",
    "def pad(y_ex):  # padding with \"no char\" encodings\n",
    "    toreturn = np.zeros((5, 11))\n",
    "    toreturn[:len(y_ex), :-1] = y_ex\n",
    "    toreturn[len(y_ex):, -1] = 1\n",
    "    return toreturn\n",
    "pad(np.arange(10*2).reshape(2, 10))\n"
   ]
  },
  {
   "cell_type": "code",
   "execution_count": 6,
   "metadata": {
    "collapsed": false,
    "deletable": true,
    "editable": true,
    "scrolled": false
   },
   "outputs": [
    {
     "data": {
      "text/plain": [
       "(23330, 5, 11)"
      ]
     },
     "execution_count": 6,
     "metadata": {},
     "output_type": "execute_result"
    }
   ],
   "source": [
    "all_y = np.array([pad(y_ex) for y_ex in all_y])\n",
    "all_y.shape"
   ]
  },
  {
   "cell_type": "markdown",
   "metadata": {},
   "source": [
    "Define train-test-validation split and reshape the data to explicitly have channel size 1"
   ]
  },
  {
   "cell_type": "code",
   "execution_count": 7,
   "metadata": {
    "collapsed": false
   },
   "outputs": [
    {
     "data": {
      "text/plain": [
       "(23330, 28, 140)"
      ]
     },
     "execution_count": 7,
     "metadata": {},
     "output_type": "execute_result"
    }
   ],
   "source": [
    "all_x.shape"
   ]
  },
  {
   "cell_type": "code",
   "execution_count": 8,
   "metadata": {
    "collapsed": false,
    "deletable": true,
    "editable": true
   },
   "outputs": [],
   "source": [
    "np.random.seed(999)\n",
    "idx = np.arange(len(all_x))\n",
    "np.random.shuffle(idx)\n",
    "temp = len(all_x)//5\n",
    "\n",
    "train_idx = idx[:(temp*3)]\n",
    "valid_idx = idx[(temp*3):(temp*4)]\n",
    "test_idx = idx[(temp*4):]\n",
    "\n",
    "train_x = all_x[train_idx].reshape(-1, 28, 140, 1)\n",
    "train_y = all_y[train_idx]\n",
    "\n",
    "valid_x = all_x[valid_idx].reshape(-1, 28, 140, 1)\n",
    "valid_y = all_y[valid_idx]\n",
    "\n",
    "test_x = all_x[test_idx].reshape(-1, 28, 140, 1)\n",
    "test_y = all_y[test_idx]"
   ]
  },
  {
   "cell_type": "code",
   "execution_count": 9,
   "metadata": {
    "collapsed": false
   },
   "outputs": [
    {
     "data": {
      "text/plain": [
       "(23330, 5, 11)"
      ]
     },
     "execution_count": 9,
     "metadata": {},
     "output_type": "execute_result"
    }
   ],
   "source": [
    "all_y.shape"
   ]
  },
  {
   "cell_type": "markdown",
   "metadata": {},
   "source": [
    "# Defining Helper Functions"
   ]
  },
  {
   "cell_type": "code",
   "execution_count": 10,
   "metadata": {
    "collapsed": true,
    "deletable": true,
    "editable": true
   },
   "outputs": [],
   "source": [
    "def masked_xe(output, target):\n",
    "    \"\"\"Compute the average cross entropy of sequences up to the lengths of the targets.\n",
    "    \n",
    "    This assumes a target is of shape [N, L, K], where N is the number of examples, L is the maximum \n",
    "    sequence length, and K is the number of classes. Additionally, target should be zero-padded to\n",
    "    arrive at the max sequence length for all sequences\n",
    "    \n",
    "    Borrowed from https://danijar.com/variable-sequence-lengths-in-tensorflow/.\n",
    "    \"\"\"\n",
    "    \n",
    "    cross_entropy = target * tf.log(output)\n",
    "    cross_entropy = -tf.reduce_sum(cross_entropy, reduction_indices=2)\n",
    "    mask = tf.sign(tf.reduce_max(tf.abs(target), reduction_indices=2))\n",
    "    cross_entropy *= mask\n",
    "    \n",
    "    cross_entropy = tf.reduce_sum(cross_entropy, reduction_indices=1)\n",
    "    cross_entropy /= tf.reduce_sum(mask, reduction_indices=1)\n",
    "    return tf.reduce_mean(cross_entropy)"
   ]
  },
  {
   "cell_type": "code",
   "execution_count": 11,
   "metadata": {
    "collapsed": false,
    "deletable": true,
    "editable": true
   },
   "outputs": [
    {
     "data": {
      "text/plain": [
       "['1212_']"
      ]
     },
     "execution_count": 11,
     "metadata": {},
     "output_type": "execute_result"
    }
   ],
   "source": [
    "def get_pred(y):\n",
    "    digits = np.argmax(y, axis=-1)\n",
    "    \n",
    "    return [''.join([str(x).replace('10', '_') for x in dig]) for dig in digits]\n",
    "digs = [\n",
    "    [\n",
    "        [0, 1]+[0]*9,\n",
    "        [0, 0.2, 0.8] + [0]*8,\n",
    "        [0, 1]+[0]*9,\n",
    "        [0, 0.2, 0.8] + [0]*8,\n",
    "        [0]*10 + [1]\n",
    "    ]\n",
    "]\n",
    "get_pred(digs)"
   ]
  },
  {
   "cell_type": "code",
   "execution_count": 12,
   "metadata": {
    "collapsed": true
   },
   "outputs": [],
   "source": [
    "def c(a):\n",
    "    if isinstance(a, tf.Tensor):\n",
    "        return a.eval()\n",
    "    else:\n",
    "        return a"
   ]
  },
  {
   "cell_type": "code",
   "execution_count": 13,
   "metadata": {
    "collapsed": false,
    "deletable": true,
    "editable": true
   },
   "outputs": [],
   "source": [
    "def accuracy(y_true, y_pred):\n",
    "    y_true = c(y_true)\n",
    "    y_pred = c(y_pred)\n",
    "    actual = np.array(get_pred(y_true))\n",
    "    pred = np.array(get_pred(y_pred))\n",
    "    return np.mean(actual == pred)"
   ]
  },
  {
   "cell_type": "markdown",
   "metadata": {},
   "source": [
    "# Test Model"
   ]
  },
  {
   "cell_type": "code",
   "execution_count": 29,
   "metadata": {
    "collapsed": true,
    "deletable": true,
    "editable": true
   },
   "outputs": [],
   "source": [
    "lr = 0.001\n",
    "simplest_graph =  tf.Graph()"
   ]
  },
  {
   "cell_type": "code",
   "execution_count": 56,
   "metadata": {
    "collapsed": false,
    "deletable": true,
    "editable": true
   },
   "outputs": [],
   "source": [
    "with simplest_graph.as_default(): \n",
    "    tf_x = tf.placeholder(tf.float32, (None, all_x.shape[1], all_x.shape[2], 1))\n",
    "    tf_y = tf.placeholder(tf.float32, (None, all_y.shape[1], all_y.shape[2]))\n",
    "    \n",
    "    # (N, 28, 140, 1)\n",
    "    conv1_w = tf.Variable(tf.truncated_normal(shape=[5, 5, 1, 5], stddev=0.1, seed=54), name=\"conv1_w\")\n",
    "    conv1_b = tf.Variable(tf.zeros(shape=[5]), name=\"conv1_b\")\n",
    "    \n",
    "    # (N, 28, 140, 5)\n",
    "    conv2_w = tf.Variable(tf.truncated_normal(shape=[1, 1, 5, 5], stddev=0.1, seed=741), name=\"conv2_w\")\n",
    "    conv2_b = tf.Variable(tf.zeros(shape=[5]), name=\"conv2_b\")\n",
    "    \n",
    "    # (N, 28, 140, 5)\n",
    "    \n",
    "    \n",
    "    # (N, 15, 71, 5)\n",
    "    conv4_w = tf.Variable(tf.truncated_normal(shape=[3, 3, 5, 15], stddev=0.1, seed=11), name=\"conv4_w\")\n",
    "    conv4_b = tf.Variable(tf.zeros(shape=[15]), name=\"conv4_b\")\n",
    "    \n",
    "    # (N, 15, 71, 15)\n",
    "    conv5_w = tf.Variable(tf.truncated_normal(shape=[1, 1, 15, 7], stddev=0.1, seed=11), name=\"conv5_w\")\n",
    "    conv5_b = tf.Variable(tf.zeros(shape=[7]), name=\"conv5_b\")\n",
    "    \n",
    "    # (N, 15, 71, 7)\n",
    "        \n",
    "    # (N, 8, 36, 7)\n",
    "    conv7_w = tf.Variable(tf.truncated_normal(shape=[2, 4, 7, 4], stddev=0.1, seed=11), name=\"conv7_w\")\n",
    "    conv7_b = tf.Variable(tf.zeros(shape=[4]), name=\"conv7_b\")\n",
    "    \n",
    "    \n",
    "    # (N, 8, 36, 4) -> (N, 1410)\n",
    "    dens8_w = tf.Variable(tf.truncated_normal(shape=[980, 400], stddev=0.1, seed=65), name=\"dens8_w\")\n",
    "    dens8_b = tf.Variable(tf.zeros(shape=[400]), name=\"dens8_b\")\n",
    "    \n",
    "    # (N, 200)\n",
    "    dig_w = tf.Variable(tf.truncated_normal(shape=[400, 5*11], stddev=0.1, seed=87), name=\"dig_w\")\n",
    "    dig_b = tf.Variable(tf.zeros(shape=[5*11]), name=\"dig_b\")"
   ]
  },
  {
   "cell_type": "code",
   "execution_count": 57,
   "metadata": {
    "collapsed": true,
    "deletable": true,
    "editable": true
   },
   "outputs": [],
   "source": [
    "def model(x):\n",
    "    o1 = tf.nn.relu(tf.nn.conv2d(x, conv1_w, [1, 1, 1, 1], 'SAME') + conv1_b)\n",
    "    o2 = tf.nn.relu(tf.nn.conv2d(o1, conv2_w, [1, 1, 1, 1], 'SAME') + conv2_b)\n",
    "    o3 = tf.nn.max_pool(o2, [1, 2, 2, 1], [1, 2, 2, 1], 'SAME')\n",
    "    o4 = tf.nn.relu(tf.nn.conv2d(o3, conv4_w, [1, 1, 1, 1], 'SAME') + conv4_b)\n",
    "    o5 = tf.nn.relu(tf.nn.conv2d(o4, conv5_w, [1, 1, 1, 1], 'SAME') + conv5_b)\n",
    "    o6 = tf.nn.max_pool(o5, [1, 2, 2, 1], [1, 2, 2, 1], 'SAME')\n",
    "    o7 = tf.nn.relu(tf.nn.conv2d(o6, conv7_w, [1, 1, 1, 1], 'SAME') + conv7_b)\n",
    "    o7resh = tf.reshape(o7, [-1, 980])\n",
    "    o8 = tf.nn.relu(tf.matmul(o7resh, dens8_w) + dens8_b)\n",
    "    odig = tf.nn.relu(tf.matmul(o8, dig_w) + dig_b)\n",
    "    return odig"
   ]
  },
  {
   "cell_type": "code",
   "execution_count": 58,
   "metadata": {
    "collapsed": false,
    "deletable": true,
    "editable": true,
    "scrolled": true
   },
   "outputs": [
    {
     "name": "stdout",
     "output_type": "stream",
     "text": [
      "(?, 5, 11)\n"
     ]
    }
   ],
   "source": [
    "with simplest_graph.as_default():\n",
    "    \n",
    "    tf_diglogit = model(tf_x)\n",
    "    tf_diglogit = tf.reshape(tf_diglogit, shape=[-1, 5, 11])\n",
    "    tf_digproba = tf.nn.softmax(tf_diglogit, dim=-1)\n",
    "    print(tf_diglogit.get_shape())\n",
    "    tf_dig_loss = tf.reduce_mean(tf.nn.softmax_cross_entropy_with_logits(labels=tf_y, logits=tf_diglogit))\n",
    "    \n",
    "    optimizer = tf.train.AdamOptimizer(lr)\n",
    "    updater = optimizer.minimize(tf_dig_loss)"
   ]
  },
  {
   "cell_type": "code",
   "execution_count": 59,
   "metadata": {
    "collapsed": false,
    "deletable": true,
    "editable": true
   },
   "outputs": [],
   "source": [
    "n_epochs = 30\n",
    "batch_size = 20\n",
    "steps_per_epoch = 2500\n",
    "compare_every = 30\n",
    "t_losses, v_losses = [], []\n",
    "t_acc, v_acc = [], []"
   ]
  },
  {
   "cell_type": "code",
   "execution_count": 60,
   "metadata": {
    "collapsed": true,
    "deletable": true,
    "editable": true
   },
   "outputs": [],
   "source": [
    "def capture_performance():\n",
    "    global session\n",
    "    global batch_size\n",
    "    global batch_idx\n",
    "    global train_x\n",
    "    global train_y\n",
    "    global valid_x\n",
    "    global valid_y\n",
    "    global t_acc\n",
    "    global v_acc\n",
    "#     print('Saving performance')\n",
    "    \n",
    "    train_loss, train_proba = session.run([tf_dig_loss, tf_digproba], \n",
    "                                                                                   feed_dict={\n",
    "        tf_x: train_x[batch_size*(batch_idx-compare_every+1):batch_size*(batch_idx+1)], \n",
    "        tf_y: train_y[batch_size*(batch_idx-compare_every+1):batch_size*(batch_idx+1)], \n",
    "    })\n",
    "    \n",
    "    valid_loss, valid_proba = session.run([tf_dig_loss, tf_digproba], \n",
    "                                                                                   feed_dict={\n",
    "        tf_x: valid_x, tf_y: valid_y})\n",
    "    \n",
    "    t_losses.append(np.mean(train_loss))\n",
    "    t_acc.append(accuracy(train_y[batch_size*(batch_idx-compare_every+1):batch_size*(batch_idx+1)], \n",
    "                          train_proba,))\n",
    "    v_losses.append(np.mean(valid_loss))\n",
    "    v_acc.append(accuracy(valid_y, valid_proba))                      "
   ]
  },
  {
   "cell_type": "code",
   "execution_count": 61,
   "metadata": {
    "collapsed": false,
    "deletable": true,
    "editable": true
   },
   "outputs": [
    {
     "name": "stderr",
     "output_type": "stream",
     "text": [
      "C:\\Users\\Ian\\Anaconda3\\lib\\site-packages\\numpy\\core\\fromnumeric.py:2889: RuntimeWarning: Mean of empty slice.\n",
      "  out=out, **kwargs)\n"
     ]
    },
    {
     "ename": "KeyboardInterrupt",
     "evalue": "",
     "output_type": "error",
     "traceback": [
      "\u001b[1;31m---------------------------------------------------------------------------\u001b[0m",
      "\u001b[1;31mKeyboardInterrupt\u001b[0m                         Traceback (most recent call last)",
      "\u001b[1;32m<ipython-input-61-95a5a08d8f38>\u001b[0m in \u001b[0;36m<module>\u001b[1;34m()\u001b[0m\n\u001b[0;32m     16\u001b[0m         \u001b[0mep_dig_losses\u001b[0m\u001b[1;33m.\u001b[0m\u001b[0mappend\u001b[0m\u001b[1;33m(\u001b[0m\u001b[0mnp\u001b[0m\u001b[1;33m.\u001b[0m\u001b[0mmean\u001b[0m\u001b[1;33m(\u001b[0m\u001b[0mbatch_dig_loss\u001b[0m\u001b[1;33m)\u001b[0m\u001b[1;33m)\u001b[0m\u001b[1;33m\u001b[0m\u001b[0m\n\u001b[0;32m     17\u001b[0m         \u001b[1;32mif\u001b[0m \u001b[1;33m(\u001b[0m\u001b[0mbatch_idx\u001b[0m\u001b[1;33m)\u001b[0m \u001b[1;33m%\u001b[0m \u001b[0mcompare_every\u001b[0m \u001b[1;33m==\u001b[0m \u001b[1;36m0\u001b[0m\u001b[1;33m:\u001b[0m\u001b[1;33m\u001b[0m\u001b[0m\n\u001b[1;32m---> 18\u001b[1;33m             \u001b[0mcapture_performance\u001b[0m\u001b[1;33m(\u001b[0m\u001b[1;33m)\u001b[0m\u001b[1;33m\u001b[0m\u001b[0m\n\u001b[0m\u001b[0;32m     19\u001b[0m \u001b[1;33m\u001b[0m\u001b[0m\n\u001b[0;32m     20\u001b[0m     v_loss, v_proba = session.run([tf_dig_loss, tf_digproba], \n",
      "\u001b[1;32m<ipython-input-60-d529512aedb9>\u001b[0m in \u001b[0;36mcapture_performance\u001b[1;34m()\u001b[0m\n\u001b[0;32m     19\u001b[0m     valid_loss, valid_proba = session.run([tf_dig_loss, tf_digproba], \n\u001b[0;32m     20\u001b[0m                                                                                    feed_dict={\n\u001b[1;32m---> 21\u001b[1;33m         tf_x: valid_x, tf_y: valid_y})\n\u001b[0m\u001b[0;32m     22\u001b[0m \u001b[1;33m\u001b[0m\u001b[0m\n\u001b[0;32m     23\u001b[0m     \u001b[0mt_losses\u001b[0m\u001b[1;33m.\u001b[0m\u001b[0mappend\u001b[0m\u001b[1;33m(\u001b[0m\u001b[0mnp\u001b[0m\u001b[1;33m.\u001b[0m\u001b[0mmean\u001b[0m\u001b[1;33m(\u001b[0m\u001b[0mtrain_loss\u001b[0m\u001b[1;33m)\u001b[0m\u001b[1;33m)\u001b[0m\u001b[1;33m\u001b[0m\u001b[0m\n",
      "\u001b[1;32mC:\\Users\\Ian\\Anaconda3\\lib\\site-packages\\tensorflow\\python\\client\\session.py\u001b[0m in \u001b[0;36mrun\u001b[1;34m(self, fetches, feed_dict, options, run_metadata)\u001b[0m\n\u001b[0;32m    776\u001b[0m     \u001b[1;32mtry\u001b[0m\u001b[1;33m:\u001b[0m\u001b[1;33m\u001b[0m\u001b[0m\n\u001b[0;32m    777\u001b[0m       result = self._run(None, fetches, feed_dict, options_ptr,\n\u001b[1;32m--> 778\u001b[1;33m                          run_metadata_ptr)\n\u001b[0m\u001b[0;32m    779\u001b[0m       \u001b[1;32mif\u001b[0m \u001b[0mrun_metadata\u001b[0m\u001b[1;33m:\u001b[0m\u001b[1;33m\u001b[0m\u001b[0m\n\u001b[0;32m    780\u001b[0m         \u001b[0mproto_data\u001b[0m \u001b[1;33m=\u001b[0m \u001b[0mtf_session\u001b[0m\u001b[1;33m.\u001b[0m\u001b[0mTF_GetBuffer\u001b[0m\u001b[1;33m(\u001b[0m\u001b[0mrun_metadata_ptr\u001b[0m\u001b[1;33m)\u001b[0m\u001b[1;33m\u001b[0m\u001b[0m\n",
      "\u001b[1;32mC:\\Users\\Ian\\Anaconda3\\lib\\site-packages\\tensorflow\\python\\client\\session.py\u001b[0m in \u001b[0;36m_run\u001b[1;34m(self, handle, fetches, feed_dict, options, run_metadata)\u001b[0m\n\u001b[0;32m    980\u001b[0m     \u001b[1;32mif\u001b[0m \u001b[0mfinal_fetches\u001b[0m \u001b[1;32mor\u001b[0m \u001b[0mfinal_targets\u001b[0m\u001b[1;33m:\u001b[0m\u001b[1;33m\u001b[0m\u001b[0m\n\u001b[0;32m    981\u001b[0m       results = self._do_run(handle, final_targets, final_fetches,\n\u001b[1;32m--> 982\u001b[1;33m                              feed_dict_string, options, run_metadata)\n\u001b[0m\u001b[0;32m    983\u001b[0m     \u001b[1;32melse\u001b[0m\u001b[1;33m:\u001b[0m\u001b[1;33m\u001b[0m\u001b[0m\n\u001b[0;32m    984\u001b[0m       \u001b[0mresults\u001b[0m \u001b[1;33m=\u001b[0m \u001b[1;33m[\u001b[0m\u001b[1;33m]\u001b[0m\u001b[1;33m\u001b[0m\u001b[0m\n",
      "\u001b[1;32mC:\\Users\\Ian\\Anaconda3\\lib\\site-packages\\tensorflow\\python\\client\\session.py\u001b[0m in \u001b[0;36m_do_run\u001b[1;34m(self, handle, target_list, fetch_list, feed_dict, options, run_metadata)\u001b[0m\n\u001b[0;32m   1030\u001b[0m     \u001b[1;32mif\u001b[0m \u001b[0mhandle\u001b[0m \u001b[1;32mis\u001b[0m \u001b[1;32mNone\u001b[0m\u001b[1;33m:\u001b[0m\u001b[1;33m\u001b[0m\u001b[0m\n\u001b[0;32m   1031\u001b[0m       return self._do_call(_run_fn, self._session, feed_dict, fetch_list,\n\u001b[1;32m-> 1032\u001b[1;33m                            target_list, options, run_metadata)\n\u001b[0m\u001b[0;32m   1033\u001b[0m     \u001b[1;32melse\u001b[0m\u001b[1;33m:\u001b[0m\u001b[1;33m\u001b[0m\u001b[0m\n\u001b[0;32m   1034\u001b[0m       return self._do_call(_prun_fn, self._session, handle, feed_dict,\n",
      "\u001b[1;32mC:\\Users\\Ian\\Anaconda3\\lib\\site-packages\\tensorflow\\python\\client\\session.py\u001b[0m in \u001b[0;36m_do_call\u001b[1;34m(self, fn, *args)\u001b[0m\n\u001b[0;32m   1037\u001b[0m   \u001b[1;32mdef\u001b[0m \u001b[0m_do_call\u001b[0m\u001b[1;33m(\u001b[0m\u001b[0mself\u001b[0m\u001b[1;33m,\u001b[0m \u001b[0mfn\u001b[0m\u001b[1;33m,\u001b[0m \u001b[1;33m*\u001b[0m\u001b[0margs\u001b[0m\u001b[1;33m)\u001b[0m\u001b[1;33m:\u001b[0m\u001b[1;33m\u001b[0m\u001b[0m\n\u001b[0;32m   1038\u001b[0m     \u001b[1;32mtry\u001b[0m\u001b[1;33m:\u001b[0m\u001b[1;33m\u001b[0m\u001b[0m\n\u001b[1;32m-> 1039\u001b[1;33m       \u001b[1;32mreturn\u001b[0m \u001b[0mfn\u001b[0m\u001b[1;33m(\u001b[0m\u001b[1;33m*\u001b[0m\u001b[0margs\u001b[0m\u001b[1;33m)\u001b[0m\u001b[1;33m\u001b[0m\u001b[0m\n\u001b[0m\u001b[0;32m   1040\u001b[0m     \u001b[1;32mexcept\u001b[0m \u001b[0merrors\u001b[0m\u001b[1;33m.\u001b[0m\u001b[0mOpError\u001b[0m \u001b[1;32mas\u001b[0m \u001b[0me\u001b[0m\u001b[1;33m:\u001b[0m\u001b[1;33m\u001b[0m\u001b[0m\n\u001b[0;32m   1041\u001b[0m       \u001b[0mmessage\u001b[0m \u001b[1;33m=\u001b[0m \u001b[0mcompat\u001b[0m\u001b[1;33m.\u001b[0m\u001b[0mas_text\u001b[0m\u001b[1;33m(\u001b[0m\u001b[0me\u001b[0m\u001b[1;33m.\u001b[0m\u001b[0mmessage\u001b[0m\u001b[1;33m)\u001b[0m\u001b[1;33m\u001b[0m\u001b[0m\n",
      "\u001b[1;32mC:\\Users\\Ian\\Anaconda3\\lib\\site-packages\\tensorflow\\python\\client\\session.py\u001b[0m in \u001b[0;36m_run_fn\u001b[1;34m(session, feed_dict, fetch_list, target_list, options, run_metadata)\u001b[0m\n\u001b[0;32m   1019\u001b[0m         return tf_session.TF_Run(session, options,\n\u001b[0;32m   1020\u001b[0m                                  \u001b[0mfeed_dict\u001b[0m\u001b[1;33m,\u001b[0m \u001b[0mfetch_list\u001b[0m\u001b[1;33m,\u001b[0m \u001b[0mtarget_list\u001b[0m\u001b[1;33m,\u001b[0m\u001b[1;33m\u001b[0m\u001b[0m\n\u001b[1;32m-> 1021\u001b[1;33m                                  status, run_metadata)\n\u001b[0m\u001b[0;32m   1022\u001b[0m \u001b[1;33m\u001b[0m\u001b[0m\n\u001b[0;32m   1023\u001b[0m     \u001b[1;32mdef\u001b[0m \u001b[0m_prun_fn\u001b[0m\u001b[1;33m(\u001b[0m\u001b[0msession\u001b[0m\u001b[1;33m,\u001b[0m \u001b[0mhandle\u001b[0m\u001b[1;33m,\u001b[0m \u001b[0mfeed_dict\u001b[0m\u001b[1;33m,\u001b[0m \u001b[0mfetch_list\u001b[0m\u001b[1;33m)\u001b[0m\u001b[1;33m:\u001b[0m\u001b[1;33m\u001b[0m\u001b[0m\n",
      "\u001b[1;31mKeyboardInterrupt\u001b[0m: "
     ]
    }
   ],
   "source": [
    "session = tf.InteractiveSession(graph=simplest_graph)\n",
    "init = tf.global_variables_initializer()\n",
    "init.run()\n",
    "np.random.seed(123456)\n",
    "for ep in range(n_epochs):\n",
    "    idx = np.arange(len(train_x))\n",
    "    np.random.shuffle(idx) # shuffling the data each epoch\n",
    "    train_x = train_x[idx]\n",
    "    train_y = train_y[idx]\n",
    "    ep_dig_losses = []\n",
    "    for batch_idx in range(min(len(train_x)//batch_size, steps_per_epoch)):\n",
    "        batch_x = train_x[batch_size*batch_idx:(batch_size*(batch_idx+1))].reshape(-1, 28, 140, 1)\n",
    "        batch_y = train_y[batch_size*batch_idx:(batch_size*(batch_idx+1))]\n",
    "        _, batch_dig_loss = session.run([updater, tf_dig_loss], \n",
    "                                                         feed_dict={tf_x: batch_x, tf_y: batch_y})\n",
    "        ep_dig_losses.append(np.mean(batch_dig_loss))\n",
    "        if (batch_idx) % compare_every == 0:\n",
    "            capture_performance()        \n",
    "        \n",
    "    v_loss, v_proba = session.run([tf_dig_loss, tf_digproba], \n",
    "                                                                {tf_x: valid_x, tf_y: valid_y})\n",
    "    print(\"Epoch {}\".format(ep))\n",
    "#     print(v_acc)\n",
    "    print(\"Validation accuracy {:<2.3%}\".format(accuracy(valid_y, v_dig_proba)))\n",
    "    \n",
    "    print(\"Mean batch dig loss {:<2.3f}\".format(np.mean(ep_dig_losses)))\n",
    "    print(\"Valid dig loss {:<2.3f}\".format(np.mean(v_loss)))\n",
    "    \n",
    "    plt.plot(t_acc, label='Train Accuracy')\n",
    "    plt.plot(v_acc, label='Validation Accuracy')\n",
    "    plt.ylim((0, 1))\n",
    "    plt.legend(loc='best')\n",
    "    plt.show()"
   ]
  },
  {
   "cell_type": "code",
   "execution_count": 213,
   "metadata": {
    "collapsed": false,
    "scrolled": true
   },
   "outputs": [
    {
     "data": {
      "image/png": "[encoded data removed]",
      "text/plain": [
       "<matplotlib.figure.Figure at 0x7fb5d0d5da58>"
      ]
     },
     "metadata": {},
     "output_type": "display_data"
    }
   ],
   "source": [
    "plt.plot(t_acc, label='Train Accuracy')\n",
    "plt.plot(v_acc, label='Validation Accuracy')\n",
    "plt.ylim((0, 1))\n",
    "plt.legend()\n",
    "plt.show()"
   ]
  },
  {
   "cell_type": "markdown",
   "metadata": {},
   "source": [
    "# Keras model version"
   ]
  },
  {
   "cell_type": "code",
   "execution_count": 14,
   "metadata": {
    "collapsed": false
   },
   "outputs": [
    {
     "name": "stderr",
     "output_type": "stream",
     "text": [
      "Using TensorFlow backend.\n"
     ]
    },
    {
     "data": {
      "text/plain": [
       "'2.0.4'"
      ]
     },
     "execution_count": 14,
     "metadata": {},
     "output_type": "execute_result"
    }
   ],
   "source": [
    "import keras\n",
    "keras.__version__"
   ]
  },
  {
   "cell_type": "code",
   "execution_count": 15,
   "metadata": {
    "collapsed": false
   },
   "outputs": [],
   "source": [
    "from keras.layers import Input, Dense, Conv2D, MaxPooling2D, Reshape, Dropout, Masking, Activation\n",
    "from keras.models import Model, Sequential\n",
    "from keras.regularizers import l2\n",
    "from keras.activations import softmax\n",
    "from keras.optimizers import Adam\n",
    "from keras.callbacks import TensorBoard"
   ]
  },
  {
   "cell_type": "code",
   "execution_count": 20,
   "metadata": {
    "collapsed": false,
    "scrolled": true
   },
   "outputs": [],
   "source": [
    "in0 = Input(shape=[all_x.shape[1], all_x.shape[2], 1], name='X')\n",
    "conv1 = Conv2D(5, (3, 3), strides=(1, 1), padding='same', activation='relu')(in0)\n",
    "conv2 = Conv2D(5, (1, 1), strides=(1, 1), padding='same', activation='relu')(conv1)\n",
    "max3 = MaxPooling2D((2, 2), (2, 2), padding='same')(conv2)\n",
    "conv4 = Conv2D(15, (3, 3), strides=(1, 1), padding='same', activation='relu')(max3)\n",
    "conv5 = Conv2D(7, (1, 1), strides=(1, 1), padding='same', activation='relu')(conv4)\n",
    "max6 = MaxPooling2D((2, 2), (2, 2), padding='same')(conv5)\n",
    "conv7 = Conv2D(4, (2, 4), strides=(1, 1), padding='same', activation='relu')(max6)\n",
    "resh7 = Reshape([980])(conv7)\n",
    "dens8 = Dense(400, activation='relu', kernel_regularizer=l2(0.003))(resh7)\n",
    "dens8 = Dropout(0.75)(dens8)\n",
    "\n",
    "dig_9 = Dense(5*11, activation='linear', kernel_regularizer=l2(0.001))(dens8)\n",
    "resh9 = Reshape([5, 11])(dig_9)\n",
    "softmax9 = Activation('softmax')(resh9)\n",
    "\n",
    "model = Model(in0, outputs=[softmax9])\n",
    "opt = Adam(0.001)\n",
    "model.compile(optimizer=opt, loss='categorical_crossentropy')"
   ]
  },
  {
   "cell_type": "code",
   "execution_count": 21,
   "metadata": {
    "collapsed": true
   },
   "outputs": [],
   "source": [
    "n_epochs = 30\n",
    "batch_size = 20\n",
    "steps_per_epoch = 250000\n",
    "compare_every = 60\n",
    "t_dig_losses, v_dig_losses = [], []\n",
    "t_acc, v_acc = [], []"
   ]
  },
  {
   "cell_type": "code",
   "execution_count": 22,
   "metadata": {
    "collapsed": true,
    "deletable": true,
    "editable": true
   },
   "outputs": [],
   "source": [
    "def capture_performance2():\n",
    "    global batch_size\n",
    "    global batch_idx\n",
    "    global train_x\n",
    "    global train_y\n",
    "    global valid_x\n",
    "    global valid_y\n",
    "    global t_acc\n",
    "    global v_acc\n",
    "#     print('Saving performance')\n",
    "    try:\n",
    "        train_dig_proba = model.predict(train_x[batch_size*(batch_idx-compare_every+1):batch_size*(batch_idx+1)])\n",
    "        t_acc.append(accuracy(train_y[batch_size*(batch_idx-compare_every+1):batch_size*(batch_idx+1)], \n",
    "                      train_dig_proba))\n",
    "    except:\n",
    "        t_acc.append(np.nan)\n",
    "    \n",
    "    valid_dig_proba = model.predict(valid_x)\n",
    "    v_acc.append(accuracy(valid_y, valid_dig_proba))                      "
   ]
  },
  {
   "cell_type": "code",
   "execution_count": 25,
   "metadata": {
    "collapsed": false,
    "deletable": true,
    "editable": true,
    "scrolled": false
   },
   "outputs": [
    {
     "name": "stdout",
     "output_type": "stream",
     "text": [
      "4608/4666 [============================>.] - ETA: 0sEpoch 0\n",
      "Validation accuracy 31.976%\n",
      "Mean batch dig loss 1.420\n",
      "Valid dig loss 1.112\n"
     ]
    },
    {
     "data": {
      "image/png": "[encoded data removed]",
      "text/plain": [
       "<matplotlib.figure.Figure at 0x1ed3b5050b8>"
      ]
     },
     "metadata": {},
     "output_type": "display_data"
    },
    {
     "ename": "KeyboardInterrupt",
     "evalue": "",
     "output_type": "error",
     "traceback": [
      "\u001b[1;31m---------------------------------------------------------------------------\u001b[0m",
      "\u001b[1;31mKeyboardInterrupt\u001b[0m                         Traceback (most recent call last)",
      "\u001b[1;32m<ipython-input-25-8b8d99d31a77>\u001b[0m in \u001b[0;36m<module>\u001b[1;34m()\u001b[0m\n\u001b[0;32m      9\u001b[0m         \u001b[0mbatch_x\u001b[0m \u001b[1;33m=\u001b[0m \u001b[0mtrain_x\u001b[0m\u001b[1;33m[\u001b[0m\u001b[0mbatch_size\u001b[0m\u001b[1;33m*\u001b[0m\u001b[0mbatch_idx\u001b[0m\u001b[1;33m:\u001b[0m\u001b[1;33m(\u001b[0m\u001b[0mbatch_size\u001b[0m\u001b[1;33m*\u001b[0m\u001b[1;33m(\u001b[0m\u001b[0mbatch_idx\u001b[0m\u001b[1;33m+\u001b[0m\u001b[1;36m1\u001b[0m\u001b[1;33m)\u001b[0m\u001b[1;33m)\u001b[0m\u001b[1;33m]\u001b[0m\u001b[1;33m.\u001b[0m\u001b[0mreshape\u001b[0m\u001b[1;33m(\u001b[0m\u001b[1;33m-\u001b[0m\u001b[1;36m1\u001b[0m\u001b[1;33m,\u001b[0m \u001b[1;36m28\u001b[0m\u001b[1;33m,\u001b[0m \u001b[1;36m140\u001b[0m\u001b[1;33m,\u001b[0m \u001b[1;36m1\u001b[0m\u001b[1;33m)\u001b[0m\u001b[1;33m\u001b[0m\u001b[0m\n\u001b[0;32m     10\u001b[0m         \u001b[0mbatch_y\u001b[0m \u001b[1;33m=\u001b[0m \u001b[0mtrain_y\u001b[0m\u001b[1;33m[\u001b[0m\u001b[0mbatch_size\u001b[0m\u001b[1;33m*\u001b[0m\u001b[0mbatch_idx\u001b[0m\u001b[1;33m:\u001b[0m\u001b[1;33m(\u001b[0m\u001b[0mbatch_size\u001b[0m\u001b[1;33m*\u001b[0m\u001b[1;33m(\u001b[0m\u001b[0mbatch_idx\u001b[0m\u001b[1;33m+\u001b[0m\u001b[1;36m1\u001b[0m\u001b[1;33m)\u001b[0m\u001b[1;33m)\u001b[0m\u001b[1;33m]\u001b[0m\u001b[1;33m\u001b[0m\u001b[0m\n\u001b[1;32m---> 11\u001b[1;33m         \u001b[0mtotal_loss\u001b[0m \u001b[1;33m=\u001b[0m \u001b[0mmodel\u001b[0m\u001b[1;33m.\u001b[0m\u001b[0mtrain_on_batch\u001b[0m\u001b[1;33m(\u001b[0m\u001b[0mbatch_x\u001b[0m\u001b[1;33m,\u001b[0m \u001b[0mbatch_y\u001b[0m\u001b[1;33m)\u001b[0m\u001b[1;33m\u001b[0m\u001b[0m\n\u001b[0m\u001b[0;32m     12\u001b[0m \u001b[1;33m\u001b[0m\u001b[0m\n\u001b[0;32m     13\u001b[0m         \u001b[0mep_dig_losses\u001b[0m\u001b[1;33m.\u001b[0m\u001b[0mappend\u001b[0m\u001b[1;33m(\u001b[0m\u001b[0mtotal_loss\u001b[0m\u001b[1;33m)\u001b[0m\u001b[1;33m\u001b[0m\u001b[0m\n",
      "\u001b[1;32mC:\\Users\\Ian\\Anaconda3\\lib\\site-packages\\keras\\engine\\training.py\u001b[0m in \u001b[0;36mtrain_on_batch\u001b[1;34m(self, x, y, sample_weight, class_weight)\u001b[0m\n\u001b[0;32m   1631\u001b[0m             \u001b[0mins\u001b[0m \u001b[1;33m=\u001b[0m \u001b[0mx\u001b[0m \u001b[1;33m+\u001b[0m \u001b[0my\u001b[0m \u001b[1;33m+\u001b[0m \u001b[0msample_weights\u001b[0m\u001b[1;33m\u001b[0m\u001b[0m\n\u001b[0;32m   1632\u001b[0m         \u001b[0mself\u001b[0m\u001b[1;33m.\u001b[0m\u001b[0m_make_train_function\u001b[0m\u001b[1;33m(\u001b[0m\u001b[1;33m)\u001b[0m\u001b[1;33m\u001b[0m\u001b[0m\n\u001b[1;32m-> 1633\u001b[1;33m         \u001b[0moutputs\u001b[0m \u001b[1;33m=\u001b[0m \u001b[0mself\u001b[0m\u001b[1;33m.\u001b[0m\u001b[0mtrain_function\u001b[0m\u001b[1;33m(\u001b[0m\u001b[0mins\u001b[0m\u001b[1;33m)\u001b[0m\u001b[1;33m\u001b[0m\u001b[0m\n\u001b[0m\u001b[0;32m   1634\u001b[0m         \u001b[1;32mif\u001b[0m \u001b[0mlen\u001b[0m\u001b[1;33m(\u001b[0m\u001b[0moutputs\u001b[0m\u001b[1;33m)\u001b[0m \u001b[1;33m==\u001b[0m \u001b[1;36m1\u001b[0m\u001b[1;33m:\u001b[0m\u001b[1;33m\u001b[0m\u001b[0m\n\u001b[0;32m   1635\u001b[0m             \u001b[1;32mreturn\u001b[0m \u001b[0moutputs\u001b[0m\u001b[1;33m[\u001b[0m\u001b[1;36m0\u001b[0m\u001b[1;33m]\u001b[0m\u001b[1;33m\u001b[0m\u001b[0m\n",
      "\u001b[1;32mC:\\Users\\Ian\\Anaconda3\\lib\\site-packages\\keras\\backend\\tensorflow_backend.py\u001b[0m in \u001b[0;36m__call__\u001b[1;34m(self, inputs)\u001b[0m\n\u001b[0;32m   2227\u001b[0m         \u001b[0msession\u001b[0m \u001b[1;33m=\u001b[0m \u001b[0mget_session\u001b[0m\u001b[1;33m(\u001b[0m\u001b[1;33m)\u001b[0m\u001b[1;33m\u001b[0m\u001b[0m\n\u001b[0;32m   2228\u001b[0m         updated = session.run(self.outputs + [self.updates_op],\n\u001b[1;32m-> 2229\u001b[1;33m                               feed_dict=feed_dict)\n\u001b[0m\u001b[0;32m   2230\u001b[0m         \u001b[1;32mreturn\u001b[0m \u001b[0mupdated\u001b[0m\u001b[1;33m[\u001b[0m\u001b[1;33m:\u001b[0m\u001b[0mlen\u001b[0m\u001b[1;33m(\u001b[0m\u001b[0mself\u001b[0m\u001b[1;33m.\u001b[0m\u001b[0moutputs\u001b[0m\u001b[1;33m)\u001b[0m\u001b[1;33m]\u001b[0m\u001b[1;33m\u001b[0m\u001b[0m\n\u001b[0;32m   2231\u001b[0m \u001b[1;33m\u001b[0m\u001b[0m\n",
      "\u001b[1;32mC:\\Users\\Ian\\Anaconda3\\lib\\site-packages\\tensorflow\\python\\client\\session.py\u001b[0m in \u001b[0;36mrun\u001b[1;34m(self, fetches, feed_dict, options, run_metadata)\u001b[0m\n\u001b[0;32m    776\u001b[0m     \u001b[1;32mtry\u001b[0m\u001b[1;33m:\u001b[0m\u001b[1;33m\u001b[0m\u001b[0m\n\u001b[0;32m    777\u001b[0m       result = self._run(None, fetches, feed_dict, options_ptr,\n\u001b[1;32m--> 778\u001b[1;33m                          run_metadata_ptr)\n\u001b[0m\u001b[0;32m    779\u001b[0m       \u001b[1;32mif\u001b[0m \u001b[0mrun_metadata\u001b[0m\u001b[1;33m:\u001b[0m\u001b[1;33m\u001b[0m\u001b[0m\n\u001b[0;32m    780\u001b[0m         \u001b[0mproto_data\u001b[0m \u001b[1;33m=\u001b[0m \u001b[0mtf_session\u001b[0m\u001b[1;33m.\u001b[0m\u001b[0mTF_GetBuffer\u001b[0m\u001b[1;33m(\u001b[0m\u001b[0mrun_metadata_ptr\u001b[0m\u001b[1;33m)\u001b[0m\u001b[1;33m\u001b[0m\u001b[0m\n",
      "\u001b[1;32mC:\\Users\\Ian\\Anaconda3\\lib\\site-packages\\tensorflow\\python\\client\\session.py\u001b[0m in \u001b[0;36m_run\u001b[1;34m(self, handle, fetches, feed_dict, options, run_metadata)\u001b[0m\n\u001b[0;32m    980\u001b[0m     \u001b[1;32mif\u001b[0m \u001b[0mfinal_fetches\u001b[0m \u001b[1;32mor\u001b[0m \u001b[0mfinal_targets\u001b[0m\u001b[1;33m:\u001b[0m\u001b[1;33m\u001b[0m\u001b[0m\n\u001b[0;32m    981\u001b[0m       results = self._do_run(handle, final_targets, final_fetches,\n\u001b[1;32m--> 982\u001b[1;33m                              feed_dict_string, options, run_metadata)\n\u001b[0m\u001b[0;32m    983\u001b[0m     \u001b[1;32melse\u001b[0m\u001b[1;33m:\u001b[0m\u001b[1;33m\u001b[0m\u001b[0m\n\u001b[0;32m    984\u001b[0m       \u001b[0mresults\u001b[0m \u001b[1;33m=\u001b[0m \u001b[1;33m[\u001b[0m\u001b[1;33m]\u001b[0m\u001b[1;33m\u001b[0m\u001b[0m\n",
      "\u001b[1;32mC:\\Users\\Ian\\Anaconda3\\lib\\site-packages\\tensorflow\\python\\client\\session.py\u001b[0m in \u001b[0;36m_do_run\u001b[1;34m(self, handle, target_list, fetch_list, feed_dict, options, run_metadata)\u001b[0m\n\u001b[0;32m   1030\u001b[0m     \u001b[1;32mif\u001b[0m \u001b[0mhandle\u001b[0m \u001b[1;32mis\u001b[0m \u001b[1;32mNone\u001b[0m\u001b[1;33m:\u001b[0m\u001b[1;33m\u001b[0m\u001b[0m\n\u001b[0;32m   1031\u001b[0m       return self._do_call(_run_fn, self._session, feed_dict, fetch_list,\n\u001b[1;32m-> 1032\u001b[1;33m                            target_list, options, run_metadata)\n\u001b[0m\u001b[0;32m   1033\u001b[0m     \u001b[1;32melse\u001b[0m\u001b[1;33m:\u001b[0m\u001b[1;33m\u001b[0m\u001b[0m\n\u001b[0;32m   1034\u001b[0m       return self._do_call(_prun_fn, self._session, handle, feed_dict,\n",
      "\u001b[1;32mC:\\Users\\Ian\\Anaconda3\\lib\\site-packages\\tensorflow\\python\\client\\session.py\u001b[0m in \u001b[0;36m_do_call\u001b[1;34m(self, fn, *args)\u001b[0m\n\u001b[0;32m   1037\u001b[0m   \u001b[1;32mdef\u001b[0m \u001b[0m_do_call\u001b[0m\u001b[1;33m(\u001b[0m\u001b[0mself\u001b[0m\u001b[1;33m,\u001b[0m \u001b[0mfn\u001b[0m\u001b[1;33m,\u001b[0m \u001b[1;33m*\u001b[0m\u001b[0margs\u001b[0m\u001b[1;33m)\u001b[0m\u001b[1;33m:\u001b[0m\u001b[1;33m\u001b[0m\u001b[0m\n\u001b[0;32m   1038\u001b[0m     \u001b[1;32mtry\u001b[0m\u001b[1;33m:\u001b[0m\u001b[1;33m\u001b[0m\u001b[0m\n\u001b[1;32m-> 1039\u001b[1;33m       \u001b[1;32mreturn\u001b[0m \u001b[0mfn\u001b[0m\u001b[1;33m(\u001b[0m\u001b[1;33m*\u001b[0m\u001b[0margs\u001b[0m\u001b[1;33m)\u001b[0m\u001b[1;33m\u001b[0m\u001b[0m\n\u001b[0m\u001b[0;32m   1040\u001b[0m     \u001b[1;32mexcept\u001b[0m \u001b[0merrors\u001b[0m\u001b[1;33m.\u001b[0m\u001b[0mOpError\u001b[0m \u001b[1;32mas\u001b[0m \u001b[0me\u001b[0m\u001b[1;33m:\u001b[0m\u001b[1;33m\u001b[0m\u001b[0m\n\u001b[0;32m   1041\u001b[0m       \u001b[0mmessage\u001b[0m \u001b[1;33m=\u001b[0m \u001b[0mcompat\u001b[0m\u001b[1;33m.\u001b[0m\u001b[0mas_text\u001b[0m\u001b[1;33m(\u001b[0m\u001b[0me\u001b[0m\u001b[1;33m.\u001b[0m\u001b[0mmessage\u001b[0m\u001b[1;33m)\u001b[0m\u001b[1;33m\u001b[0m\u001b[0m\n",
      "\u001b[1;32mC:\\Users\\Ian\\Anaconda3\\lib\\site-packages\\tensorflow\\python\\client\\session.py\u001b[0m in \u001b[0;36m_run_fn\u001b[1;34m(session, feed_dict, fetch_list, target_list, options, run_metadata)\u001b[0m\n\u001b[0;32m   1019\u001b[0m         return tf_session.TF_Run(session, options,\n\u001b[0;32m   1020\u001b[0m                                  \u001b[0mfeed_dict\u001b[0m\u001b[1;33m,\u001b[0m \u001b[0mfetch_list\u001b[0m\u001b[1;33m,\u001b[0m \u001b[0mtarget_list\u001b[0m\u001b[1;33m,\u001b[0m\u001b[1;33m\u001b[0m\u001b[0m\n\u001b[1;32m-> 1021\u001b[1;33m                                  status, run_metadata)\n\u001b[0m\u001b[0;32m   1022\u001b[0m \u001b[1;33m\u001b[0m\u001b[0m\n\u001b[0;32m   1023\u001b[0m     \u001b[1;32mdef\u001b[0m \u001b[0m_prun_fn\u001b[0m\u001b[1;33m(\u001b[0m\u001b[0msession\u001b[0m\u001b[1;33m,\u001b[0m \u001b[0mhandle\u001b[0m\u001b[1;33m,\u001b[0m \u001b[0mfeed_dict\u001b[0m\u001b[1;33m,\u001b[0m \u001b[0mfetch_list\u001b[0m\u001b[1;33m)\u001b[0m\u001b[1;33m:\u001b[0m\u001b[1;33m\u001b[0m\u001b[0m\n",
      "\u001b[1;31mKeyboardInterrupt\u001b[0m: "
     ]
    }
   ],
   "source": [
    "np.random.seed(123456)\n",
    "for ep in range(n_epochs):\n",
    "    idx = np.arange(len(train_x))\n",
    "    np.random.shuffle(idx) # shuffling the data each epoch\n",
    "    train_x = train_x[idx]\n",
    "    train_y = train_y[idx]\n",
    "    ep_dig_losses = []\n",
    "    for batch_idx in range(min(len(train_x)//batch_size, steps_per_epoch)):\n",
    "        batch_x = train_x[batch_size*batch_idx:(batch_size*(batch_idx+1))].reshape(-1, 28, 140, 1)\n",
    "        batch_y = train_y[batch_size*batch_idx:(batch_size*(batch_idx+1))]\n",
    "        total_loss = model.train_on_batch(batch_x, batch_y)\n",
    "        \n",
    "        ep_dig_losses.append(total_loss)\n",
    "        if (batch_idx) % compare_every == 0:\n",
    "            capture_performance2()\n",
    "                   \n",
    "    v_dig_proba = model.predict(valid_x)\n",
    "    v_dig_loss = model.evaluate(valid_x, valid_y)\n",
    "    print(\"Epoch {}\".format(ep))\n",
    "#     print(v_acc)\n",
    "    print(\"Validation accuracy {:<2.3%}\".format(accuracy(valid_y, v_dig_proba)))\n",
    "    \n",
    "    print(\"Mean batch dig loss {:<2.3f}\".format(np.mean(ep_dig_losses)))\n",
    "    print(\"Valid dig loss {:<2.3f}\".format(np.mean(v_dig_loss)))\n",
    "    \n",
    "    plt.plot(t_acc, label='Train Accuracy')\n",
    "    plt.plot(v_acc, label='Validation Accuracy')\n",
    "    plt.ylim((0, 1))\n",
    "    plt.legend()\n",
    "    plt.show()"
   ]
  },
  {
   "cell_type": "code",
   "execution_count": null,
   "metadata": {
    "collapsed": true
   },
   "outputs": [],
   "source": []
  }
 ],
 "metadata": {
  "kernelspec": {
   "display_name": "Python 3",
   "language": "python",
   "name": "python3"
  },
  "language_info": {
   "codemirror_mode": {
    "name": "ipython",
    "version": 3
   },
   "file_extension": ".py",
   "mimetype": "text/x-python",
   "name": "python",
   "nbconvert_exporter": "python",
   "pygments_lexer": "ipython3",
   "version": "3.5.2"
  }
 },
 "nbformat": 4,
 "nbformat_minor": 0
}
